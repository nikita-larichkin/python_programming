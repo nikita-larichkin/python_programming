{
  "nbformat": 4,
  "nbformat_minor": 0,
  "metadata": {
    "colab": {
      "provenance": []
    },
    "kernelspec": {
      "name": "python3",
      "display_name": "Python 3"
    },
    "language_info": {
      "name": "python"
    }
  },
  "cells": [
    {
      "cell_type": "markdown",
      "source": [
        "# **Практическая работа №11. Введение в ООП**\n",
        "\n",
        "\n"
      ],
      "metadata": {
        "id": "s-EuQCpnWXCn"
      }
    },
    {
      "cell_type": "markdown",
      "source": [
        "## **Задание 1. Напишите программу с классом Car**\n",
        "* Создайте конструктор класса Car.\n",
        "* Создайте атрибуты класса Car — color (цвет), type (тип), year (год).\n",
        "* Напишите пять методов:\n",
        "> 1. Запуск автомобиля (при его вызове выводится сообщение «Автомобиль заведен»)\n",
        "> 2. Отключение автомобиля (выводит сообщение «Автомобиль заглушен»)\n",
        "> 3. Присвоение автомобилю года выпуска\n",
        "> 4. Присвоение автомобилю типа\n",
        "> 5. Присвоение автомобилю цвета"
      ],
      "metadata": {
        "id": "OvDnozzI-g-6"
      }
    },
    {
      "cell_type": "code",
      "source": [
        "class Car:\n",
        "  def __init__(self, color, car_type, year):\n",
        "    self.color = color\n",
        "    self.car_type = car_type\n",
        "    self.year = year\n",
        "\n",
        "  def onCar(self):\n",
        "    print(\"Автомобиль заведен\")\n",
        "\n",
        "  def offCar(self):\n",
        "    print(\"Автомобиль заглушен\")\n",
        "\n",
        "  def set_year(self, new_year):\n",
        "    self.year = new_year\n",
        "    print(f\"Год автомобиля установлен на {new_year}\")\n",
        "\n",
        "  def set_type(self, new_type):\n",
        "    self.car_type = new_type\n",
        "    print(f\"Тип автомобиля установлен на {new_type}\")\n",
        "\n",
        "  def set_color(self, new_color):\n",
        "    self.color = new_color\n",
        "    print(f\"Цвет автомобиля установлен на {new_color}\")"
      ],
      "metadata": {
        "id": "xMYBjxjy-hIE"
      },
      "execution_count": null,
      "outputs": []
    },
    {
      "cell_type": "markdown",
      "source": [
        "## **Задание 2. Создайте класс Sphere для представления сферы в трехмерном пространстве**\n"
      ],
      "metadata": {
        "id": "TQ5SpdjdbD4D"
      }
    },
    {
      "cell_type": "markdown",
      "source": [
        "Обеспечьте следующие методы класса:\n",
        "\n",
        "1. Конструктор, принимающий 4 действительных числа: радиус, и 3 координаты центра шара. Если конструктор вызывается без аргументов, создать объект сферы с единичным радиусом и центром в начале координат. Если конструктор вызывается с аргументом, создать объект сферы с соответствующим радиусом и центром в начале координат.\n",
        "\n",
        "2. Метод get_volume (), который возвращает действительное число — объем шара, ограниченной текущей сферой.\n",
        "\n",
        "3. Метод get_square (), который возвращает действительное число — площадь внешней поверхности сферы.\n",
        "\n",
        "4. Метод get_radius (), который возвращает действительное число — радиус сферы.\n",
        "\n",
        "5. Метод get_center (), который возвращает тьюпл с 3 действительными числами — координатами центра сферы в том же порядке, в каком они задаются в конструкторе.\n",
        "\n",
        "6. Метод set_radius (r), который принимает 1 аргумент — действительное число, и меняет радиус текущей сферы, ничего не возвращая.\n",
        "\n",
        "7. Метод set_center (x, y, z), который принимает 3 аргумента — действительных числа, и меняет координаты центра сферы, ничего не возвращая. Координаты задаются в том же порядке, что и в конструкторе.\n",
        "\n",
        "8. Метод is_point_inside (x, y, z), который принимает 3 аргумента — действительных числа — координаты некоторой точки в пространстве (в том же порядке, что и в конструкторе), и возвращает логическое значение True или False в зависимости от того, находится эта точка внутри сферы."
      ],
      "metadata": {
        "id": "Q5Ow51wfASZH"
      }
    },
    {
      "cell_type": "code",
      "source": [
        "# Тесты\n",
        "\n",
        "s0 = Sphere(0.5) # test sphere creation with radius and default center\n",
        "print(s0.get_center()) # (0.0, 0.0, 0.0)\n",
        "print(s0.get_volume()) # 0.523598775598\n",
        "print(s0.is_point_inside(0 , -1.5, 0)) # False\n",
        "s0.set_radius(1.6)\n",
        "print(s0.is_point_inside(0, -1.5, 0)) # True\n",
        "print(s0.get_radius()) # 1.6"
      ],
      "metadata": {
        "id": "xYx3bR2Lbv42"
      },
      "execution_count": null,
      "outputs": []
    },
    {
      "cell_type": "code",
      "source": [
        "import math\n",
        "\n",
        "\n",
        "class Sphere:\n",
        "  def __init__(self, radius=1.0, x=0.0, y=0.0, z=0.0):\n",
        "    self.radius = radius\n",
        "    self.x = x\n",
        "    self.y = y\n",
        "    self.z = z\n",
        "\n",
        "  def get_volume(self):\n",
        "    return (4/3) * math.pi * self.radius**3\n",
        "\n",
        "  def get_square(self):\n",
        "    return 4 * math.pi * self.radius**2\n",
        "\n",
        "  def get_radius(self):\n",
        "      return self.radius\n",
        "\n",
        "  def get_center(self):\n",
        "    return self.center\n",
        "\n",
        "  def set_radius(self, r):\n",
        "    self.radius = r\n",
        "\n",
        "  def set_center(self, x, y, z):\n",
        "    self.center = (x, y, z)\n",
        "\n",
        "  def is_point_inside(self, x, y, z):\n",
        "    distance = math.sqrt((x - self.center[0])**2 + (y - self.center[1])**2 + (z - self.center[2])**2)\n",
        "    return distance <= self.radius\n",
        "\n",
        "\n",
        "s0 = Sphere(0.5) # test sphere creation with radius and default center\n",
        "print(s0.get_center()) # (0.0, 0.0, 0.0)\n",
        "print(s0.get_volume()) # 0.523598775598\n",
        "print(s0.is_point_inside(0 , -1.5, 0)) # False\n",
        "s0.set_radius(1.6)\n",
        "print(s0.is_point_inside(0, -1.5, 0)) # True\n",
        "print(s0.get_radius()) # 1.6"
      ],
      "metadata": {
        "id": "d-vd-AYRdBId",
        "colab": {
          "base_uri": "https://localhost:8080/"
        },
        "outputId": "8719ee27-4474-42fa-c381-41600c475491"
      },
      "execution_count": null,
      "outputs": [
        {
          "output_type": "stream",
          "name": "stdout",
          "text": [
            "(0.0, 0.0, 0.0)\n",
            "0.5235987755982988\n",
            "False\n",
            "True\n",
            "1.6\n"
          ]
        }
      ]
    },
    {
      "cell_type": "markdown",
      "source": [
        "## **Задание 3. Создайте класс SuperStr, который наследует функциональность стандартного типа str и содержит 2 новых метода:**"
      ],
      "metadata": {
        "id": "UuJ9K_zAcaY_"
      }
    },
    {
      "cell_type": "markdown",
      "source": [
        "1. Метод is_repeatance (s), который принимает 1 аргумент s и возвращает True или False в зависимости от того, может ли текущая строку быть получена целым количеством повторов строки s. Вернуть False, если s не является строкой. Считать, что пустая строка не содержит повторов.\n",
        "\n",
        "2. Метод is_palindrom (), который возвращает True или False в зависимости от того, является ли строка палиндромом. Регистрами символов пренебрегать. Пустую строку считать палиндромом."
      ],
      "metadata": {
        "id": "GX99X81VchPW"
      }
    },
    {
      "cell_type": "code",
      "source": [
        "class SuperStr(str):\n",
        "  def is_repeatance(self, s):\n",
        "    if not isinstance(s, str):\n",
        "      return False\n",
        "    return self == s * (len(self) // len(s))\n",
        "\n",
        "  def is_palindrom(self):\n",
        "    return self == self[::-1]\n",
        "\n",
        "\n",
        "s = SuperStr(\"123123123123\")\n",
        "print(s.is_repeatance(\"123\")) # True\n",
        "print(s.is_repeatance(\"123123\")) # True\n",
        "print(s.is_repeatance(\"123123123123\")) # True\n",
        "print(s.is_repeatance(\"12312\")) # False\n",
        "print(s.is_repeatance(123)) # False\n",
        "print(s.is_palindrom()) # False\n",
        "print(s) # 123123123123 (строка)\n",
        "print(int(s)) # 123123123123 (целое число)\n",
        "print(s + \"qwe\") # 123123123123qwe\n",
        "p = SuperStr(\"123_321\")\n",
        "print(p.is_palindrom()) # True"
      ],
      "metadata": {
        "id": "LtIAKDWFdEcr",
        "colab": {
          "base_uri": "https://localhost:8080/"
        },
        "outputId": "39c3fa8f-920a-4dd4-f6c7-a396d175f3dd"
      },
      "execution_count": null,
      "outputs": [
        {
          "output_type": "stream",
          "name": "stdout",
          "text": [
            "True\n",
            "True\n",
            "True\n",
            "False\n",
            "False\n",
            "False\n",
            "123123123123\n",
            "123123123123\n",
            "123123123123qwe\n",
            "True\n"
          ]
        }
      ]
    },
    {
      "cell_type": "code",
      "source": [
        "# Тесты\n",
        "\n",
        "s = SuperStr(\"123123123123\")\n",
        "print(s.is_repeatance(\"123\")) # True\n",
        "print(s.is_repeatance(\"123123\")) # True\n",
        "print(s.is_repeatance(\"123123123123\")) # True\n",
        "print(s.is_repeatance(\"12312\")) # False\n",
        "print(s.is_repeatance(123)) # False\n",
        "print(s.is_palindrom()) # False\n",
        "print(s) # 123123123123 (строка)\n",
        "print(int(s)) # 123123123123 (целое число)\n",
        "print(s + \"qwe\") # 123123123123qwe\n",
        "p = SuperStr(\"123_321\")\n",
        "print(p.is_palindrom()) # True"
      ],
      "metadata": {
        "id": "oRO3alwicoNp"
      },
      "execution_count": null,
      "outputs": []
    },
    {
      "cell_type": "markdown",
      "source": [
        "## **Задание 4. В коде ниже представлен класс преподавателей и класс студентов (вы можете взять этот код за основу или написать свой).**"
      ],
      "metadata": {
        "id": "m9EGwLY9jZbw"
      }
    },
    {
      "cell_type": "code",
      "source": [
        "class Student:\n",
        "    def __init__(self, name, surname, gender):\n",
        "        self.name = name\n",
        "        self.surname = surname\n",
        "        self.gender = gender\n",
        "        self.finished_courses = []\n",
        "        self.courses_in_progress = []\n",
        "        self.grades = {}\n",
        "\n",
        "    def add_courses(self, course_name):\n",
        "        self.finished_courses.append(course_name)\n",
        "\n",
        "\n",
        "class Mentor:\n",
        "    def __init__(self, name, surname):\n",
        "        self.name = name\n",
        "        self.surname = surname\n",
        "        self.courses_attached = []\n",
        "\n",
        "    def rate_hw(self, student, course, grade):\n",
        "        student.grades[course] = [grade]"
      ],
      "metadata": {
        "id": "PlqK9m7KrT6e"
      },
      "execution_count": null,
      "outputs": []
    },
    {
      "cell_type": "code",
      "source": [
        "best_student = Student('Ruoy', 'Eman', 'your_gender')\n",
        "cool_mentor = Mentor('Some', 'Buddy')\n",
        "cool_mentor.rate_hw(best_student, 'Python', 10)\n",
        "\n",
        "print(\"Имя студента: \", best_student.name)\n",
        "print(\"Имя преподавателя: \", cool_mentor.name)\n",
        "print(\"Оценки студента по курсам: \", best_student.grades)"
      ],
      "metadata": {
        "colab": {
          "base_uri": "https://localhost:8080/"
        },
        "id": "oNc1-dVaw3ee",
        "outputId": "7621e159-5ac4-48a7-8318-886013ba7692"
      },
      "execution_count": null,
      "outputs": [
        {
          "output_type": "stream",
          "name": "stdout",
          "text": [
            "Имя студента:  Ruoy\n",
            "Имя преподавателя:  Some\n",
            "Оценки студента по курсам:  {'Python': [10]}\n"
          ]
        }
      ]
    },
    {
      "cell_type": "markdown",
      "source": [
        "### **4.1. Наследование**"
      ],
      "metadata": {
        "id": "08FkYxULrxE-"
      }
    },
    {
      "cell_type": "markdown",
      "source": [
        "* Класс Mentor должен стать родительским классом для преподавателей. От него нужно реализовать наследование классов Lecturer (лекторы) и Reviewer (эксперты, проверяющие домашние задания).\n",
        "\n",
        "> Имя, фамилию и список закрепленных курсов логично реализовать на уровне родительского класса."
      ],
      "metadata": {
        "id": "YNjsCv5ItOii"
      }
    },
    {
      "cell_type": "code",
      "source": [
        "class Mentor:\n",
        "    def __init__(self, name, surname):\n",
        "        self.name = name\n",
        "        self.surname = surname\n",
        "        self.courses_attached = []\n",
        "\n",
        "    def rate_hw(self, student, course, grade):\n",
        "        student.grades[course] = [grade]\n",
        "\n",
        "class Lecturer(Mentor):\n",
        "    pass\n",
        "\n",
        "class Reviewer(Mentor):\n",
        "    pass\n"
      ],
      "metadata": {
        "id": "1quZPRZKtIoc"
      },
      "execution_count": null,
      "outputs": []
    },
    {
      "cell_type": "markdown",
      "source": [
        "### **4.2. Атрибуты и взаимодействие классов**"
      ],
      "metadata": {
        "id": "oL8kB-uUtH5K"
      }
    },
    {
      "cell_type": "markdown",
      "source": [
        "* Реализуйте возможность проставления оценок студентам только Reviewer-ам (реализуйте такой метод).\n",
        "\n",
        "* Реализуйте метод выставления оценок лекторам у класса Student (оценки по 10-балльной шкале, хранятся в атрибуте-словаре у Lecturer, в котором ключи – названия курсов, а значения – списки оценок). Лектор при этом должен быть закреплен за тем курсом, на который записан студент (реализовать проверку)."
      ],
      "metadata": {
        "id": "ddcuJFCksWsY"
      }
    },
    {
      "cell_type": "code",
      "source": [
        "class Student:\n",
        "  def __init__(self, name, surname, gender):\n",
        "    self.name = name\n",
        "    self.surname = surname\n",
        "    self.gender = gender\n",
        "    self.finished_courses = []\n",
        "    self.courses_in_progress = []\n",
        "    self.grades = {}\n",
        "\n",
        "  def add_courses(self, course_name):\n",
        "    self.finished_courses.append(course_name)\n",
        "\n",
        "  def all_courses(self):\n",
        "    return self.courses_in_progress + self.finished_courses\n",
        "\n",
        "  def rate_lector(self, lector, course, rate):\n",
        "    if course not in self.all_courses():\n",
        "      return\n",
        "    if course not in lector.courses_attached:\n",
        "      return\n",
        "    else:\n",
        "      lector.add_rate(course, rate)\n",
        "\n",
        "\n",
        "class Mentor:\n",
        "  def __init__(self, name, surname):\n",
        "    self.name = name\n",
        "    self.surname = surname\n",
        "    self.courses_attached = []\n",
        "\n",
        "\n",
        "class Lecturer(Mentor):\n",
        "  def __init__(self, name: str, surname: str):\n",
        "    super().__init__(name, surname)\n",
        "    self.rating = {}\n",
        "\n",
        "  def add_rate(self, name_course, rate):\n",
        "    if name_course not in self.courses_attached:\n",
        "      return\n",
        "    if name_course in self.rating:\n",
        "      self.rating[name_course].append(rate)\n",
        "    else:\n",
        "      self.rating[name_course] = [rate]\n",
        "\n",
        "class Reviewer(Mentor):\n",
        "  def rate_hw(self, student, course, grade):\n",
        "    student.grades[course] = [grade]"
      ],
      "metadata": {
        "id": "U30yyvuirv6H"
      },
      "execution_count": null,
      "outputs": []
    },
    {
      "cell_type": "markdown",
      "source": [
        "### **4.3. Полиморфизм и магические методы**"
      ],
      "metadata": {
        "id": "i6PrwEBSu39u"
      }
    },
    {
      "cell_type": "markdown",
      "source": [
        "Перегрузите магический метод \\_\\_str__ у всех классов.\n",
        "У проверяющих он должен выводить информацию в следующем виде:\n",
        "\n",
        "\n",
        "\n",
        "```\n",
        "print(some_reviewer)\n",
        "Имя: Some\n",
        "Фамилия: Buddy\n",
        "```\n",
        "\n",
        "У лекторов:\n",
        "\n",
        "\n",
        "\n",
        "```\n",
        "print(some_lecturer)\n",
        "Имя: Some\n",
        "Фамилия: Buddy\n",
        "Средняя оценка за лекции: 9.9\n",
        "```\n",
        "\n",
        "А у студентов так:\n",
        "\n",
        "\n",
        "\n",
        "```\n",
        "print(some_student)\n",
        "Имя: Ruoy\n",
        "Фамилия: Eman\n",
        "Средняя оценка за домашние задания: 9.9\n",
        "Курсы в процессе изучения: Python, Git\n",
        "Завершенные курсы: Введение в программирование\n",
        "```\n",
        "\n",
        "\n",
        "\n"
      ],
      "metadata": {
        "id": "GvmtjlnmvF8b"
      }
    },
    {
      "cell_type": "code",
      "source": [
        "class Mentor:\n",
        "  def __init__(self, name, surname):\n",
        "    self.name = name\n",
        "    self.surname = surname\n",
        "    self.courses_attached = []\n",
        "\n",
        "\n",
        "class Student:\n",
        "  def __init__(self, name, surname, gender):\n",
        "    self.name = name\n",
        "    self.surname = surname\n",
        "    self.gender = gender\n",
        "    self.finished_courses = []\n",
        "    self.courses_in_progress = []\n",
        "    self.grades = {}\n",
        "\n",
        "  def add_courses(self, course_name):\n",
        "    self.finished_courses.append(course_name)\n",
        "\n",
        "  def all_courses(self):\n",
        "    return self.courses_in_progress + self.finished_courses\n",
        "\n",
        "  def rate_lector(self, lector, course, rate):\n",
        "    if course not in self.all_courses():\n",
        "      return\n",
        "    if course not in lector.courses_attached:\n",
        "      return\n",
        "    else:\n",
        "      lector.add_rate(course, rate)\n",
        "\n",
        "  def avg_hw_rate(self):\n",
        "    all_rate = [k for i in self.grades for k in self.grades[i]]\n",
        "    if len(all_rate) == 0:\n",
        "      return 0\n",
        "    else:\n",
        "      return sum(all_rate) / len(all_rate)\n",
        "\n",
        "  def __str__(self):\n",
        "    courses_in_progress_str = ', '.join(self.courses_in_progress)\n",
        "    finished_courses_str = ', '.join(self.finished_courses)\n",
        "    return (f'Имя: {self.name}\\n'\n",
        "            f'Фамилия: {self.surname}\\n'\n",
        "            f'Средняя оценка за домашние задания: {self.calculate_avg_grade()}\\n'\n",
        "            f'Курсы в процессе изучения: {courses_in_progress_str}\\n'\n",
        "            f'Завершенные курсы: {finished_courses_str}')\n",
        "\n",
        "\n",
        "class Lecturer(Mentor):\n",
        "  def __init__(self, name: str, surname: str):\n",
        "    super().__init__(name, surname)\n",
        "    self.rating = {}\n",
        "\n",
        "  def add_rate(self, name_course, rate):\n",
        "    if name_course not in self.courses_attached:\n",
        "      return\n",
        "    if name_course in self.rating:\n",
        "      self.rating[name_course].append(rate)\n",
        "    else:\n",
        "      self.rating[name_course] = [rate]\n",
        "\n",
        "  def avg_rating(self):\n",
        "    all_rating = [k for i in self.rating for k in self.rating[i]]\n",
        "    if len(all_rating) == 0:\n",
        "      return 0\n",
        "    else:\n",
        "      return sum(all_rating) / len(all_rating)\n",
        "\n",
        "  def __str__(self):\n",
        "    return (f'Имя: {self.name}\\n'\n",
        "            f'Фамилия: {self.surname}\\n'\n",
        "            f'Средняя оценка за лекции: {self.calculate_avg_grade()}')\n",
        "\n",
        "\n",
        "class Reviewer(Mentor):\n",
        "  def rate_hw(self, student, course, grade):\n",
        "    student.grades[course] = [grade]\n",
        "\n",
        "  def __str__(self):\n",
        "    return f'Имя: {self.name}\\nФамилия: {self.surname}'"
      ],
      "metadata": {
        "id": "gCJAL_EmwU0b"
      },
      "execution_count": null,
      "outputs": []
    },
    {
      "cell_type": "markdown",
      "source": [
        "**Реализуйте перегрузку других магических методов на Ваш выбор (не менее трёх), из тех, что были изучены на паре, руководствуясь по смыслу контекстом представленных классов (студенты, преподаватели, оценки и т.д.)**"
      ],
      "metadata": {
        "id": "1DNE4TE3vfYI"
      }
    },
    {
      "cell_type": "code",
      "source": [
        "class Mentor:\n",
        "  def __init__(self, name, surname):\n",
        "    self.name = name\n",
        "    self.surname = surname\n",
        "    self.courses_attached = []\n",
        "\n",
        "\n",
        "class Student:\n",
        "  def __init__(self, name, surname, gender):\n",
        "    self.name = name\n",
        "    self.surname = surname\n",
        "    self.gender = gender\n",
        "    self.finished_courses = []\n",
        "    self.courses_in_progress = []\n",
        "    self.grades = {}\n",
        "\n",
        "  def add_courses(self, course_name):\n",
        "    self.finished_courses.append(course_name)\n",
        "\n",
        "  def all_courses(self):\n",
        "    return self.courses_in_progress + self.finished_courses\n",
        "\n",
        "  def rate_lector(self, lector, course, rate):\n",
        "    if course not in self.all_courses():\n",
        "      return\n",
        "    if course not in lector.courses_attached:\n",
        "      return\n",
        "    else:\n",
        "      lector.add_rate(course, rate)\n",
        "\n",
        "  def avg_hw_rate(self):\n",
        "    all_rate = [k for i in self.grades for k in self.grades[i]]\n",
        "    if len(all_rate) == 0:\n",
        "      return 0\n",
        "    else:\n",
        "      return sum(all_rate) / len(all_rate)\n",
        "\n",
        "  def __str__(self):\n",
        "    courses_in_progress_str = ', '.join(self.courses_in_progress)\n",
        "    finished_courses_str = ', '.join(self.finished_courses)\n",
        "    return (f'Имя: {self.name}\\n'\n",
        "            f'Фамилия: {self.surname}\\n'\n",
        "            f'Средняя оценка за домашние задания: {self.calculate_avg_grade()}\\n'\n",
        "            f'Курсы в процессе изучения: {courses_in_progress_str}\\n'\n",
        "            f'Завершенные курсы: {finished_courses_str}')\n",
        "\n",
        "  def __eq__(self, other):\n",
        "    return isinstance(other, Student) and self.name == other.name and self.surname == other.surname\n",
        "\n",
        "  def __lt__(self, other):\n",
        "    return isinstance(other, Student) and self.avg_hw_rate() < other.avg_hw_rate()\n",
        "\n",
        "  def __gt__(self, other):\n",
        "    return isinstance(other, Student) and self.avg_hw_rate() > other.avg_hw_rate()\n",
        "\n",
        "\n",
        "class Lecturer(Mentor):\n",
        "  def __init__(self, name: str, surname: str):\n",
        "    super().__init__(name, surname)\n",
        "    self.rating = {}\n",
        "\n",
        "  def add_rate(self, name_course, rate):\n",
        "    if name_course not in self.courses_attached:\n",
        "      return\n",
        "    if name_course in self.rating:\n",
        "      self.rating[name_course].append(rate)\n",
        "    else:\n",
        "      self.rating[name_course] = [rate]\n",
        "\n",
        "  def avg_rating(self):\n",
        "    all_rating = [k for i in self.rating for k in self.rating[i]]\n",
        "    if len(all_rating) == 0:\n",
        "      return 0\n",
        "    else:\n",
        "      return sum(all_rating) / len(all_rating)\n",
        "\n",
        "  def __str__(self):\n",
        "    return (f'Имя: {self.name}\\n'\n",
        "            f'Фамилия: {self.surname}\\n'\n",
        "            f'Средняя оценка за лекции: {self.calculate_avg_grade()}')\n",
        "\n",
        "\n",
        "class Reviewer(Mentor):\n",
        "  def rate_hw(self, student, course, grade):\n",
        "    student.grades[course] = [grade]\n",
        "\n",
        "  def __str__(self):\n",
        "    return f'Имя: {self.name}\\nФамилия: {self.surname}'"
      ],
      "metadata": {
        "id": "WNCf9PPMu4Gv"
      },
      "execution_count": null,
      "outputs": []
    },
    {
      "cell_type": "markdown",
      "source": [
        "### **4.4. Тестирование**\n",
        "\n",
        "Создайте по 2 экземпляра каждого класса, вызовите все созданные методы, а также реализуйте две функции:\n",
        "\n",
        "* для подсчета средней оценки за домашние задания по всем студентам в рамках конкретного курса (в качестве аргументов принимаем список студентов и название курса);\n",
        "* для подсчета средней оценки за лекции всех лекторов в рамках курса (в качестве аргумента принимаем список лекторов и название курса)."
      ],
      "metadata": {
        "id": "X8xvLNT6u4Nn"
      }
    },
    {
      "cell_type": "code",
      "source": [
        "class Mentor:\n",
        "  def __init__(self, name, surname):\n",
        "    self.name = name\n",
        "    self.surname = surname\n",
        "    self.courses_attached = []\n",
        "\n",
        "  def add_courses(self, course_name):\n",
        "    self.courses_attached.append(course_name)\n",
        "\n",
        "  def __getitem__(self):\n",
        "    return self.courses_attached\n",
        "\n",
        "\n",
        "class Student:\n",
        "  def __init__(self, name, surname, gender):\n",
        "    self.name = name\n",
        "    self.surname = surname\n",
        "    self.gender = gender\n",
        "    self.finished_courses = []\n",
        "    self.courses_in_progress = []\n",
        "    self.grades = {}\n",
        "\n",
        "  def add_courses(self, course_name):\n",
        "    self.finished_courses.append(course_name)\n",
        "\n",
        "  def all_courses(self):\n",
        "    return self.courses_in_progress + self.finished_courses\n",
        "\n",
        "  def rate_lector(self, lector, course, rate):\n",
        "    if course not in self.all_courses():\n",
        "      return\n",
        "    if course not in lector.courses_attached:\n",
        "      return\n",
        "    else:\n",
        "      lector.add_rate(course, rate)\n",
        "\n",
        "  def avg_hw_rate(self):\n",
        "    all_rate = [k for i in self.grades for k in self.grades[i]]\n",
        "    if len(all_rate) == 0:\n",
        "      return 0\n",
        "    else:\n",
        "      return sum(all_rate) / len(all_rate)\n",
        "\n",
        "  def __str__(self):\n",
        "    courses_in_progress_str = ', '.join(self.courses_in_progress)\n",
        "    finished_courses_str = ', '.join(self.finished_courses)\n",
        "    return (f'Имя: {self.name}\\n'\n",
        "            f'Фамилия: {self.surname}\\n'\n",
        "            f'Средняя оценка за домашние задания: {self.avg_hw_rate()}\\n'\n",
        "            f'Курсы в процессе изучения: {courses_in_progress_str}\\n'\n",
        "            f'Завершенные курсы: {finished_courses_str}')\n",
        "\n",
        "  def __eq__(self, other):\n",
        "    return isinstance(other, Student) and self.name == other.name and self.surname == other.surname\n",
        "\n",
        "  def __lt__(self, other):\n",
        "    return isinstance(other, Student) and self.avg_hw_rate() < other.avg_hw_rate()\n",
        "\n",
        "  def __gt__(self, other):\n",
        "    return isinstance(other, Student) and self.avg_hw_rate() > other.avg_hw_rate()\n",
        "\n",
        "\n",
        "class Lecturer(Mentor):\n",
        "  def __init__(self, name: str, surname: str):\n",
        "    super().__init__(name, surname)\n",
        "    self.rating = {}\n",
        "\n",
        "  def add_rate(self, name_course, rate):\n",
        "    if name_course not in self.courses_attached:\n",
        "      return\n",
        "    if name_course in self.rating:\n",
        "      self.rating[name_course].append(rate)\n",
        "    else:\n",
        "      self.rating[name_course] = [rate]\n",
        "\n",
        "  def avg_rating(self):\n",
        "    all_rating = [k for i in self.rating for k in self.rating[i]]\n",
        "    if len(all_rating) == 0:\n",
        "      return 0\n",
        "    else:\n",
        "      return sum(all_rating) / len(all_rating)\n",
        "\n",
        "  def __str__(self):\n",
        "    return (f'Имя: {self.name}\\n'\n",
        "            f'Фамилия: {self.surname}\\n'\n",
        "            f'Средняя оценка за лекции: {self.avg_rating()}')\n",
        "\n",
        "\n",
        "class Reviewer(Mentor):\n",
        "  def rate_hw(self, student, course, grade):\n",
        "    student.grades[course] = [grade]\n",
        "\n",
        "  def __str__(self):\n",
        "    return f'Имя: {self.name}\\nФамилия: {self.surname}'\n",
        "\n",
        "\n",
        "def avg_hw_grade(students, course):\n",
        "    total_grade = 0\n",
        "    count = 0\n",
        "    for student in students:\n",
        "        if course in student.all_courses() and course in student.grades:\n",
        "            total_grade += sum(student.grades[course])\n",
        "            count += len(student.grades[course])\n",
        "    return total_grade / count if count > 0 else 0\n",
        "\n",
        "\n",
        "def avg_lecture_rating(lecturers, course):\n",
        "    total_rating = 0\n",
        "    count = 0\n",
        "    for lecturer in lecturers:\n",
        "        if course in lecturer.courses_attached and course in lecturer.rating:\n",
        "            total_rating += sum(lecturer.rating[course])\n",
        "            count += len(lecturer.rating[course])\n",
        "    return total_rating / count if count > 0 else 0\n",
        "\n",
        "\n",
        "lector_1 = Lecturer('Григорий', 'Анохиг')\n",
        "lector_1.add_courses(\"Python\")\n",
        "lector_1.add_courses(\"C++\")\n",
        "lector_2 = Lecturer('Олег', 'Тиньков')\n",
        "lector_2.add_courses(\"Golang\")\n",
        "lector_2.add_courses(\"Python\")\n",
        "\n",
        "student_1 = Student('Александр', 'Сергеевич', 'м')\n",
        "student_1.add_courses(\"C++\")\n",
        "student_1.add_courses(\"Python\")\n",
        "student_2 = Student('Виктория', 'Романовна', 'ж')\n",
        "student_2.add_courses(\"Golang\")\n",
        "student_2.add_courses(\"Python\")\n",
        "\n",
        "reviewer_1 = Reviewer(\"Максим\", \"Викторович\")\n",
        "reviewer_1.add_courses(\"C++\")\n",
        "reviewer_1.add_courses(\"Python\")\n",
        "reviewer_2 = Reviewer(\"Сергей\", \"Семенович\")\n",
        "reviewer_2.add_courses(\"Golang\")\n",
        "reviewer_2.add_courses(\"Python\")\n",
        "\n",
        "student_1.rate_lector(lector_1, \"C++\", 10)\n",
        "student_1.rate_lector(lector_1, \"Python\", 8)\n",
        "student_2.rate_lector(lector_2, \"Golang\", 9)\n",
        "student_2.rate_lector(lector_2, \"Python\", 10)\n",
        "\n",
        "reviewer_1.rate_hw(student_1, \"C++\", 8)\n",
        "reviewer_1.rate_hw(student_1, \"Python\", 10)\n",
        "\n",
        "reviewer_2.rate_hw(student_2, \"Golang\", 9)\n",
        "reviewer_2.rate_hw(student_2, \"Python\", 7)\n",
        "\n",
        "print(f\"Студенты: \\n{student_1}\\n{student_2}\\n\\nЛекторы: \\n{lector_1}\\n{lector_2}\\n\\nРецензеры: \\n{reviewer_1}\\n{reviewer_2}\\n\")\n",
        "print(\"Средняя оценка за домашние задания по Python:\", avg_hw_grade([student_1, student_2], 'Python'))\n",
        "print(\"Средняя оценка за лекции по Python:\", avg_lecture_rating([lector_1, lector_2], 'Python'))"
      ],
      "metadata": {
        "id": "uh8n08fdu4V_",
        "colab": {
          "base_uri": "https://localhost:8080/"
        },
        "outputId": "f0c8f442-33de-40c4-f65c-1dd8d0d9b92a"
      },
      "execution_count": null,
      "outputs": [
        {
          "output_type": "stream",
          "name": "stdout",
          "text": [
            "Студенты: \n",
            "Имя: Александр\n",
            "Фамилия: Сергеевич\n",
            "Средняя оценка за домашние задания: 9.0\n",
            "Курсы в процессе изучения: \n",
            "Завершенные курсы: C++, Python\n",
            "Имя: Виктория\n",
            "Фамилия: Романовна\n",
            "Средняя оценка за домашние задания: 8.0\n",
            "Курсы в процессе изучения: \n",
            "Завершенные курсы: Golang, Python\n",
            "\n",
            "Лекторы: \n",
            "Имя: Григорий\n",
            "Фамилия: Анохиг\n",
            "Средняя оценка за лекции: 9.0\n",
            "Имя: Олег\n",
            "Фамилия: Тиньков\n",
            "Средняя оценка за лекции: 9.5\n",
            "\n",
            "Эксперты: \n",
            "Имя: Максим\n",
            "Фамилия: Викторович\n",
            "Имя: Сергей\n",
            "Фамилия: Семенович\n",
            "\n",
            "Средняя оценка за домашние задания по Python: 8.5\n",
            "Средняя оценка за лекции по Python: 9.0\n"
          ]
        }
      ]
    }
  ]
}